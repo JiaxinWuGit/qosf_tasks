{
 "cells": [
  {
   "cell_type": "markdown",
   "id": "045ceb9c",
   "metadata": {},
   "source": [
    "# Find Quantum State with Alternating Bits"
   ]
  },
  {
   "cell_type": "markdown",
   "id": "5341d8a5",
   "metadata": {},
   "source": [
    "## Task description\n",
    "QOSF Screening tasks - Cohort 4\n",
    "\n",
    "Task 1 \n",
    "\n",
    "Design a quantum circuit that considers as input the following vector of integers numbers: \n",
    "\n",
    "[1,5,7,10]\n",
    "returns a quantum state which is a superposition of indices of the target solution, obtaining in the output the indices of the inputs where two adjacent bits will always have different values. In this case the output should be: 1/sqrt(2) * (|01> + |11>), as the correct indices are 1 and 3.\n",
    "\n",
    "1 = 0001\n",
    "5 = 0101\n",
    "7 = 0111\n",
    "10 = 1010\n",
    "\n",
    "The method to follow for this task is to start from an array of integers as input, pass them to a binary representation and you need to find those integers whose binary representation is such that two adjacent bits are different. Once you have found those integers, you must output a superposition of states where each state is a binary representation of the indices of those integers.\n",
    "\n",
    "Example 1\n",
    "\n",
    "Consider the vector [1,5,4,2]\n",
    "\n",
    "Pass the integer values to binary numbers that is [001,101,100,010]\n",
    "\n",
    "Identifies which values whose binary representation is such that two adjacent bits are different, we can see that are 2 101 and 010, [001,101,100,010].\n",
    "\n",
    "Returns the linear combination of the indices in which the values satisfying the criterion are found.\n",
    "\n",
    "Indices:\n",
    "\n",
    "   0     1      2  \t3\n",
    "   \n",
    "   \n",
    "[001,101,100,010]\n",
    "\n",
    "Indices are converted to binary states\n",
    "\n",
    "|00> |01> |10> |11>\n",
    "\n",
    "\n",
    "\n",
    "[001,101,100,010]\n",
    "\n",
    "The answer would be the superposition of the states |01> and |11> or 1/sqrt(2) * (|01> + |11>)\n"
   ]
  },
  {
   "cell_type": "markdown",
   "id": "a4a9dd50",
   "metadata": {},
   "source": [
    "# Solution \n",
    "Step 1. Define input vector [1,5,7,10] in a classical state. Correspondingly, assume its index vector is [0,1,2,3] - in equivalent binary form: [00,01,10,11].\n",
    "\n",
    "Step 2. Find the location of alternating element within the input vector, then translate them into binary form. The number of binary digits m in an input element defines the target elements. For example, with even m, target1 = 2^(m) + 2^(m-2) + ... + 1 and target2 = 2^(m-1) + 2^(m-3) + ... + 2; with odd m, target1 = 2^(m-1) + 2^(m-2) + ... + 1 and target2 = 2^(m) + 2^(m-3) + ... + 2. With the definative target elements, it is relatively easy to find their corresponding location within the input vector in a classical way.\n",
    "\n",
    "Step 3. Use Grover's algorithm to amplify the two binary states from step 2 as output."
   ]
  },
  {
   "cell_type": "markdown",
   "id": "e148e21b",
   "metadata": {},
   "source": [
    "### Step 1. Define input vector in a classicle state"
   ]
  },
  {
   "cell_type": "code",
   "execution_count": 3,
   "id": "e2a03f25",
   "metadata": {},
   "outputs": [],
   "source": [
    "# from qiskit import QuantumCircuit, execute, QuantumRegister\n",
    "from qiskit import BasicAer\n",
    "from qiskit.quantum_info import Statevector\n",
    "from qiskit import QuantumCircuit\n",
    "import numpy as np\n",
    "import math\n",
    "\n",
    "import warnings\n",
    "warnings.simplefilter('ignore', DeprecationWarning)\n",
    "\n",
    "# Define the input vector as a classical state\n",
    "input_vec = [1,5,7,10] \n"
   ]
  },
  {
   "cell_type": "markdown",
   "id": "4efb6bde",
   "metadata": {},
   "source": [
    "### Step 2. Find the location of the alternating element in the input vector, and translate it into binary form"
   ]
  },
  {
   "cell_type": "code",
   "execution_count": 4,
   "id": "4688e79d",
   "metadata": {},
   "outputs": [
    {
     "name": "stdout",
     "output_type": "stream",
     "text": [
      "target1 =  5 ,  target2 =  10\n",
      "location of target 1 =  1 ,  location of target 2 =  3\n",
      "desired_states =  ['01', '11']\n"
     ]
    }
   ],
   "source": [
    "# Calculate the alternating elements\n",
    "m = int(math.ceil(math.log2(max(input_vec)))) # the number of binary digits for every element, defined by the max number in the input vector\n",
    "target1 = 1 # target alternating element 1\n",
    "target2 = 2 # target alternating element 2\n",
    "\n",
    "if m%2 == 0:\n",
    "    target1 = 1 # target alternating element 1\n",
    "    target2 = 2 # target alternating element 2\n",
    "    for i in range(2,m,2):\n",
    "        target1 = target1 + 2**(i)\n",
    "        target2 = target2 + 2**(i+1)\n",
    "\n",
    "else:\n",
    "    target1 = 1 # target alternating element 1\n",
    "    target2 = 0 # target alternating element 2\n",
    "    for i in range(2,m,2):\n",
    "        target1 = target1 + 2**(i)\n",
    "        target2 = target2 + 2**(i-1)\n",
    "   \n",
    "\n",
    " # Find target location within input_vec\n",
    "loc1 = input_vec.index(target1)\n",
    "loc2 = input_vec.index(target2)\n",
    "\n",
    "\n",
    "# Define the number of qubits needed based on log2(number of elements in input_vec)\n",
    "num_qubits = int(math.ceil(math.log2(len(input_vec))))\n",
    "\n",
    "# Translate the target location into binary states\n",
    "binary_format = '0' + str(num_qubits) + 'b'\n",
    "desired_states = [0]*2\n",
    "desired_states[0] = format(loc1, binary_format)\n",
    "desired_states[1] = format(loc2, binary_format)\n",
    "\n",
    "print('target1 = ', target1,', ','target2 = ', target2)\n",
    "print('location of target 1 = ', loc1, ', ', 'location of target 2 = ', loc2 )\n",
    "print('desired_states = ', desired_states)\n"
   ]
  },
  {
   "cell_type": "markdown",
   "id": "e70289ea",
   "metadata": {},
   "source": [
    "### Step 3. Use Grover's algorithm to find the desired binary states"
   ]
  },
  {
   "cell_type": "code",
   "execution_count": 5,
   "id": "bfefd384",
   "metadata": {},
   "outputs": [
    {
     "name": "stdout",
     "output_type": "stream",
     "text": [
      "output state measurement results: {'01': 497, '11': 527}\n"
     ]
    }
   ],
   "source": [
    "from qiskit import Aer\n",
    "from qiskit.aqua import QuantumInstance\n",
    "from qiskit.aqua.algorithms import Grover\n",
    "\n",
    "\n",
    "\n",
    "# Define the oracle based on the desired_states list\n",
    "oracle = QuantumCircuit(num_qubits) # Need manual adjustment if the desired_state changes according to the input vector.\n",
    "oracle.h(0)\n",
    "oracle.x(1)\n",
    "\n",
    "# Use Grover's algorithm to find the desired states\n",
    "qasm_simulator = Aer.get_backend('qasm_simulator')\n",
    "\n",
    "optimal_num_interations = Grover.optimal_num_iterations(num_solutions = 1, num_qubits = num_qubits)\n",
    "grover = Grover(oracle=oracle, good_state=desired_states, iterations=optimal_num_interations)\n",
    "output = grover.run(quantum_instance=qasm_simulator)\n",
    "\n",
    "\n",
    "print('output state measurement results:', output.measurement)"
   ]
  },
  {
   "cell_type": "markdown",
   "id": "ad4a3fd6",
   "metadata": {},
   "source": [
    "### About generalization\n",
    "The classical part of the solution above is tried to be written as general as possible, for input vectors (`input_vec`) with different number of elements and different length of binary digits. However, in the quantum part, i.e. while using the `Grover`'s algorithm, the oracle will need adjustment when changing the input vector. This is a lot more complicated to be generalized, as the design of the oracle highly depend on the desired state vectors (`desired_states`).\n",
    "\n",
    "One (tedious) way that I can think of is to list out all possible oracles for different configurations with certain `num_qubits`, and choose the appropriate one depending on the target locations. Obivously, this method cannot be generalized to arbitrary `num_qubits`. Below provides an example for the case of `num_qubits` = 2.\n",
    "\n",
    "If there are better ways of generalizing the oracle, I am happy to discuss!\n"
   ]
  },
  {
   "cell_type": "code",
   "execution_count": 42,
   "id": "6682c21c",
   "metadata": {},
   "outputs": [
    {
     "name": "stdout",
     "output_type": "stream",
     "text": [
      "output state measurement results: {'11': 504, '01': 520}\n"
     ]
    }
   ],
   "source": [
    "############# Generalized oracle for the case of num_qubits = 2 #####################\n",
    "\n",
    "desired_states.sort()\n",
    "\n",
    "# List all possible oracles depending on the configurations\n",
    "if num_qubits == 2:\n",
    "    oracle = QuantumCircuit(num_qubits)\n",
    "    if desired_states[0] == '00' and desired_states[1] == '01':\n",
    "        oracle.h(1)\n",
    "        oracle.y(0)\n",
    "    if desired_states[0] == '00' and desired_states[1] == '10':\n",
    "        oracle.y(1)\n",
    "        oracle.h(0)\n",
    "    if desired_states[0] == '00' and desired_states[1] == '11':\n",
    "        oracle.h(0)\n",
    "        oracle.cx(1,0)\n",
    "        oracle.x(1)\n",
    "    if desired_states[0] == '01' and desired_states[1] == '10':\n",
    "        oracle.h(0)\n",
    "        oracle.cx(1,0)\n",
    "    if desired_states[0] == '01' and desired_states[1] == '11':\n",
    "        oracle.h(0)\n",
    "        oracle.x(1)\n",
    "    if desired_states[0] == '10' and desired_states[1] == '11':\n",
    "        oracle.x(0)\n",
    "        oracle.h(1)     \n",
    "\n",
    "# Use Grover's algorithm to find the desired states\n",
    "optimal_num_interations = Grover.optimal_num_iterations(num_solutions = 1, num_qubits = num_qubits)\n",
    "grover = Grover(oracle=oracle, good_state=desired_states, iterations=optimal_num_interations)\n",
    "output = grover.run(quantum_instance=qasm_simulator)\n",
    "\n",
    "print('output state measurement results:', output.measurement)"
   ]
  },
  {
   "cell_type": "code",
   "execution_count": null,
   "id": "3d423e25",
   "metadata": {},
   "outputs": [],
   "source": []
  }
 ],
 "metadata": {
  "kernelspec": {
   "display_name": "qiskit_env",
   "language": "python",
   "name": "qiskit_env"
  },
  "language_info": {
   "codemirror_mode": {
    "name": "ipython",
    "version": 3
   },
   "file_extension": ".py",
   "mimetype": "text/x-python",
   "name": "python",
   "nbconvert_exporter": "python",
   "pygments_lexer": "ipython3",
   "version": "3.8.11"
  }
 },
 "nbformat": 4,
 "nbformat_minor": 5
}
